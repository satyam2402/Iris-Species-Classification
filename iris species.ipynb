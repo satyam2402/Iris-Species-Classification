{
 "cells": [
  {
   "cell_type": "code",
   "execution_count": 11,
   "metadata": {},
   "outputs": [],
   "source": [
    "#Importing the data set\n",
    "import pandas as pd\n",
    "\n",
    "irisdataset = pd.read_csv(\"Iris.csv\")"
   ]
  },
  {
   "cell_type": "code",
   "execution_count": 12,
   "metadata": {},
   "outputs": [],
   "source": [
    "#Preprocessing the data set\n",
    "\n",
    "# 1. Since there is no need of id we can remove this\n",
    "irisdataset = irisdataset.drop(columns = [\"Id\"], axis = 1)"
   ]
  },
  {
   "cell_type": "code",
   "execution_count": 13,
   "metadata": {},
   "outputs": [],
   "source": [
    "# 2. Separating dependant and independant variable\n",
    "x = irisdataset.iloc[:,:-1].values\n",
    "y = irisdataset.iloc[:,-1].values\n"
   ]
  },
  {
   "cell_type": "code",
   "execution_count": 14,
   "metadata": {},
   "outputs": [],
   "source": [
    "#Splitting the data into train and test set\n",
    "from sklearn.model_selection import train_test_split\n",
    "xtrain, xtest, ytrain, ytest = train_test_split(x, y, train_size = .80)"
   ]
  },
  {
   "cell_type": "code",
   "execution_count": 15,
   "metadata": {},
   "outputs": [],
   "source": [
    "#Using Random Forest Algorithm \n",
    "from sklearn.ensemble import RandomForestClassifier"
   ]
  },
  {
   "cell_type": "code",
   "execution_count": 16,
   "metadata": {},
   "outputs": [],
   "source": [
    "#Noting the accuracy starting with 1 estimator till 50\n",
    "\n",
    "estimators = []\n",
    "accuracy = []\n",
    "\n",
    "for n in range(1, 51):\n",
    "    \n",
    "    #Creating the classifier\n",
    "    classifier = RandomForestClassifier(n_estimators = n, criterion = 'entropy', random_state = 0)\n",
    "\n",
    "    #Fitting the data in the model\n",
    "    classifier.fit(xtrain, ytrain)\n",
    "    \n",
    "    #Predicting the data from test set\n",
    "    ypred = classifier.predict(xtest)\n",
    "    \n",
    "    #Fetching the accuracy of the model\n",
    "    from sklearn.metrics import accuracy_score\n",
    "    accuracyscore = accuracy_score(ytest, ypred)\n",
    "    \n",
    "    #Adding both the data in the list\n",
    "    estimators.append(n)\n",
    "    accuracy.append(accuracyscore)\n",
    "\n"
   ]
  },
  {
   "cell_type": "code",
   "execution_count": 17,
   "metadata": {},
   "outputs": [
    {
     "data": {
      "text/plain": [
       "Text(0, 0.5, 'Accuracy Score')"
      ]
     },
     "execution_count": 17,
     "metadata": {},
     "output_type": "execute_result"
    },
    {
     "data": {
      "image/png": "[encoded data removed]",
      "text/plain": [
       "<Figure size 432x288 with 1 Axes>"
      ]
     },
     "metadata": {
      "needs_background": "light"
     },
     "output_type": "display_data"
    }
   ],
   "source": [
    "\n",
    "#Plotting Accuracy vs Estimators\n",
    "import matplotlib.pylab as plt\n",
    "plt.bar(estimators, accuracy, width = 0.5)\n",
    "plt.xlabel(\"Number of Estimator\")\n",
    "plt.ylabel(\"Accuracy Score\")"
   ]
  },
  {
   "cell_type": "code",
   "execution_count": null,
   "metadata": {},
   "outputs": [],
   "source": []
  }
 ],
 "metadata": {
  "kernelspec": {
   "display_name": "Python 3",
   "language": "python",
   "name": "python3"
  },
  "language_info": {
   "codemirror_mode": {
    "name": "ipython",
    "version": 3
   },
   "file_extension": ".py",
   "mimetype": "text/x-python",
   "name": "python",
   "nbconvert_exporter": "python",
   "pygments_lexer": "ipython3",
   "version": "3.7.6"
  }
 },
 "nbformat": 4,
 "nbformat_minor": 4
}
